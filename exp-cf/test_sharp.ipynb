{
 "cells": [
  {
   "cell_type": "markdown",
   "metadata": {},
   "source": [
    "**only bound constraints, no equality constraints, full objective**"
   ]
  },
  {
   "cell_type": "code",
   "execution_count": null,
   "metadata": {},
   "outputs": [],
   "source": [
    "\n",
    "import numpy as np\n",
    "import mystic\n",
    "from statsmodels.stats.weightstats import DescrStatsW\n",
    "\n",
    "\n",
    "N = 1000\n",
    "data = np.linspace(1,N,N)\n",
    "\n",
    "\n",
    "def objective(x, d=data, alpha=0.1):\n",
    "    x = np.squeeze(x)\n",
    "    return -1*DescrStatsW(d, x).quantile(1-alpha).to_numpy()[0]\n",
    "\n",
    "\n",
    "\n",
    "bounds = [(1,3) for i in range(0,len(data))]\n",
    "\n",
    "def penalty(x):\n",
    "  return 0.0\n",
    "\n",
    "from mystic.solvers import diffev2\n",
    "from mystic.monitors import VerboseMonitor\n",
    "mon = VerboseMonitor(10)\n",
    "\n",
    "result = diffev2(objective, x0=bounds, penalty=penalty, npop=10, gtol=200, bounds=bounds,\\\n",
    "                 disp=False, full_output=True,  maxiter=1000)\n",
    "print(result[0])\n",
    "print(-result[1])\n",
    "print(-objective([1]*(N-1)+[3], d=data, alpha=0.1))"
   ]
  },
  {
   "cell_type": "markdown",
   "metadata": {},
   "source": [
    "**only bound constraints, no equality constraints, simple objective**"
   ]
  },
  {
   "cell_type": "code",
   "execution_count": 276,
   "metadata": {},
   "outputs": [
    {
     "name": "stdout",
     "output_type": "stream",
     "text": [
      "[1. 1. 1. 1. 1. 1. 1. 1. 1. 1. 1. 1. 1. 1. 1. 1. 1. 1. 1. 1. 1. 1. 1. 1.\n",
      " 1. 1. 1. 1. 1. 1. 1. 1. 1. 1. 1. 1. 1. 1. 1. 1. 1. 1. 1. 1. 1. 1. 1. 1.\n",
      " 1. 1. 1. 1. 1. 1. 1. 1. 1. 1. 1. 1. 1. 1. 1. 1. 1. 1. 1. 1. 1. 1. 1. 1.\n",
      " 1. 1. 1. 1. 1. 1. 1. 1. 1. 1. 1. 1. 1. 1. 1. 1. 1. 1. 1. 1. 1. 1. 1. 1.\n",
      " 1. 1. 1. 1. 1. 1. 1. 1. 1. 1. 1. 1. 1. 1. 1. 1. 1. 1. 1. 1. 1. 1. 1. 1.\n",
      " 1. 1. 1. 1. 1. 1. 1. 1. 1. 1. 1. 1. 1. 1. 1. 1. 1. 1. 1. 1. 1. 1. 1. 1.\n",
      " 1. 1. 1. 1. 1. 1. 1. 1. 1. 1. 1. 1. 1. 1. 1. 1. 1. 1. 1. 1. 1. 1. 1. 1.\n",
      " 1. 1. 1. 1. 1. 1. 1. 1. 1. 1. 1. 1. 1. 1. 1. 1. 1. 1. 1. 1. 1. 1. 1. 1.\n",
      " 1. 1. 1. 1. 1. 1. 1. 1. 1. 1. 1. 1. 1. 1. 1. 1. 1. 1. 1. 1. 1. 1. 1. 1.\n",
      " 1. 1. 1. 1. 1. 1. 1. 1. 1. 1. 1. 1. 1. 1. 1. 1. 1. 1. 1. 1. 1. 1. 1. 1.\n",
      " 1. 1. 1. 1. 1. 1. 1. 1. 1. 1. 1. 1. 1. 1. 1. 1. 1. 1. 1. 1. 1. 1. 1. 1.\n",
      " 1. 1. 1. 1. 1. 1. 1. 1. 1. 1. 1. 1. 1. 1. 1. 1. 3. 3. 3. 3. 3. 3. 3. 3.\n",
      " 3. 3. 3. 3. 3. 3. 3. 3. 3. 3. 3. 3.]\n",
      "0.17647058823529413\n",
      "0.17647058823529413\n"
     ]
    }
   ],
   "source": [
    "\n",
    "from scipy.optimize import Bounds\n",
    "from scipy.optimize import minimize\n",
    "\n",
    "N = 300\n",
    "K = 20\n",
    "data = np.linspace(1,N,N)\n",
    "bounds = Bounds([1]*N, [3]*N)\n",
    "\n",
    "def objective(x, K=K): # inverted objective, to find the max\n",
    "    return -1*np.sum(x[-K:])/np.sum(x)\n",
    "\n",
    "x0 = np.array([2]*N)\n",
    "\n",
    "res = minimize(objective, x0, method='SLSQP',  options={'verbose': 1, 'maxiter': 5000}, bounds=bounds)\n",
    "\n",
    "print(res.x)\n",
    "print(-res.fun)\n",
    "print(-objective([1]*(N-K)+[3]*K))\n"
   ]
  },
  {
   "cell_type": "markdown",
   "metadata": {},
   "source": [
    "**bound constraints + equality constraints, simple objective**"
   ]
  },
  {
   "cell_type": "code",
   "execution_count": 11,
   "metadata": {},
   "outputs": [
    {
     "name": "stdout",
     "output_type": "stream",
     "text": [
      "min -35.30919436145439 max 56.471674285416846\n",
      "Optimization terminated successfully    (Exit mode 0)\n",
      "            Current function value: -0.04567508179298117\n",
      "            Iterations: 9\n",
      "            Function evaluations: 2709\n",
      "            Gradient evaluations: 9\n",
      "[1.23252003 1.06070645 1.07628363 1.32511742 1.07494364 1.\n",
      " 1.17630862 1.         1.09360513 1.         1.25559395 1.\n",
      " 1.         1.         1.14364267 1.         1.16062554 1.16636634\n",
      " 1.08435857 1.01825515 1.         1.24886286 1.         1.15760431\n",
      " 1.         1.18612817 1.13714455 1.         1.00885265 1.19700526\n",
      " 1.07164876 1.         1.         1.         1.         1.\n",
      " 1.         1.         1.         1.13743753 1.10557896 1.\n",
      " 1.00082531 1.21876677 1.01205069 1.05144613 1.         1.14328386\n",
      " 1.15754166 1.03561513 1.         1.         1.39528607 1.22234669\n",
      " 1.20793875 1.         1.27012057 1.03186159 1.         1.\n",
      " 1.15060189 1.         1.         1.         1.19162878 1.\n",
      " 1.06096916 1.         1.         1.         1.         1.12202798\n",
      " 1.0170341  1.         1.14579872 1.1369861  1.         1.15509765\n",
      " 1.         1.         1.         1.         1.26921348 1.11498084\n",
      " 1.         1.         1.         1.         1.         1.00612257\n",
      " 1.31297155 1.23697908 1.         1.03756366 1.         1.\n",
      " 1.         1.         1.32924971 1.         1.02029509 1.\n",
      " 1.         1.         1.10593177 1.         1.2213737  1.\n",
      " 1.17926059 1.06410736 1.         1.         1.         1.\n",
      " 1.         1.03299951 1.         1.         1.00990871 1.\n",
      " 1.         1.         1.08965655 1.         1.02901129 1.08986437\n",
      " 1.         1.2474516  1.         1.00455964 1.         1.\n",
      " 1.         1.         1.         1.04606666 1.         1.\n",
      " 1.2141713  1.         1.         1.07496169 1.         1.\n",
      " 1.         1.         1.         1.         1.2489238  1.03641547\n",
      " 1.         1.         1.03486251 1.         1.         1.06600487\n",
      " 1.         1.         1.         1.32774234 1.00740334 1.\n",
      " 1.34236972 1.21176833 1.         1.2407779  1.09313075 1.\n",
      " 1.         1.         1.         1.         1.         1.\n",
      " 1.01082418 1.         1.         1.10693712 1.23645014 1.\n",
      " 1.         1.         1.28038734 1.         1.         1.16757516\n",
      " 1.         1.         1.18923646 1.11593683 1.         1.32843677\n",
      " 1.         1.11794262 1.         1.         1.0756943  1.12867465\n",
      " 1.         1.         1.         1.         1.30541468 1.\n",
      " 1.         1.         1.         1.         1.00761745 1.\n",
      " 1.         1.         1.         1.17943606 1.16330344 1.12217482\n",
      " 1.07259066 1.14496131 1.15901594 1.         1.         1.42463395\n",
      " 1.         1.         1.         1.23417596 1.05547987 1.\n",
      " 1.         1.         1.20197778 1.08702154 1.         1.10713424\n",
      " 1.         1.         1.         1.04000853 1.11622718 1.16018445\n",
      " 1.32236341 1.07459438 1.01298348 1.         1.20128836 1.34558721\n",
      " 1.25970569 1.         1.26953369 1.         1.         1.\n",
      " 1.05160936 1.         1.         1.00758161 1.15904592 1.10864087\n",
      " 1.01545582 1.23692892 1.10032019 1.         1.         1.00794391\n",
      " 1.01957851 1.03981527 1.         1.         1.         1.\n",
      " 1.         1.04886245 1.         1.         1.         1.08349956\n",
      " 1.         1.11631576 1.         1.         1.16377537 1.05865307\n",
      " 1.         1.         1.43649484 1.13680807 1.26017438 1.\n",
      " 1.         1.17004255 1.         1.01345987 1.15420341 1.\n",
      " 1.         3.         3.         3.         3.         3.        ]\n",
      "0.04567508179298117\n",
      "0.04838709677419355\n",
      "2.9999999997416578\n",
      "Optimization terminated successfully\n"
     ]
    }
   ],
   "source": [
    "\n",
    "from scipy.optimize import Bounds\n",
    "from scipy.optimize import minimize\n",
    "\n",
    "N = 300\n",
    "K = 5\n",
    "data = np.linspace(1,N,N)\n",
    "bounds = Bounds([1]*N, [3]*N)\n",
    "\n",
    "\n",
    "def objective(x, K=K): \n",
    "    return -1*np.sum(x[-K:])/np.sum(x)\n",
    "\n",
    "coef = np.random.normal(0,0.2,N)\n",
    "\n",
    "def con(x, coef=coef):\n",
    "    return np.sum(coef*x)-3\n",
    "eq_cons = {'type': 'eq', 'fun' : con}\n",
    "\n",
    "print('min', con((coef>0)*1 + (coef<0)*3), 'max', con((coef>0)*3 + (coef<0)*1))\n",
    "\n",
    "def incon(x, coef=coef):\n",
    "    return  np.array([1 - np.sum(coef*x), 1+np.sum(coef*x)])\n",
    "ineq_cons = {'type': 'ineq', 'fun' : incon}\n",
    "\n",
    "\n",
    "x0 = np.random.uniform(1,3,N)\n",
    "x0 = np.ones(N)\n",
    "x0 = np.array([1]*(N-K)+[3]*K)\n",
    "res = minimize(objective, x0, method='SLSQP', tol=1e-5, options={'ftol': 1e-5, 'disp': True, 'maxiter': 5000}, \\\n",
    "    bounds=bounds, constraints=eq_cons)\n",
    "\n",
    "print(res.x)\n",
    "print(-res.fun)\n",
    "print(-objective([1]*(N-K)+[3]*K))\n",
    "print(np.sum(coef*res.x))\n",
    "print(res.message)"
   ]
  },
  {
   "cell_type": "code",
   "execution_count": 271,
   "metadata": {},
   "outputs": [
    {
     "name": "stdout",
     "output_type": "stream",
     "text": [
      "Optimization terminated successfully    (Exit mode 0)\n",
      "            Current function value: -0.04682282041696795\n",
      "            Iterations: 25\n",
      "            Function evaluations: 7525\n",
      "            Gradient evaluations: 25\n",
      "[1.         1.         1.         1.         1.         1.\n",
      " 1.         1.         1.         1.         1.         1.\n",
      " 1.         1.         1.         1.         1.         1.\n",
      " 1.         1.         1.         1.         1.         1.\n",
      " 1.         1.         1.         1.         1.         1.\n",
      " 1.         1.36370604 1.         1.         1.         1.\n",
      " 1.         1.         1.         1.         1.         1.\n",
      " 1.         1.         1.         1.         1.         1.\n",
      " 1.         1.         1.         1.         1.         1.\n",
      " 1.         1.         1.         1.         1.         1.\n",
      " 1.         1.         1.         1.         1.         1.\n",
      " 1.         1.         1.         1.         1.         1.\n",
      " 1.         1.         1.         1.         1.         1.\n",
      " 1.         1.         1.         1.         1.         1.\n",
      " 1.         1.         1.         1.         1.         1.\n",
      " 1.         1.         1.         1.         1.         1.\n",
      " 1.         1.         1.         1.         1.         1.\n",
      " 1.         1.         1.         1.         1.         1.\n",
      " 1.         1.         1.         1.         1.         1.\n",
      " 1.         1.         1.         1.         1.         1.\n",
      " 1.         1.         1.         1.         1.         1.\n",
      " 1.         1.         1.         1.         1.         1.\n",
      " 1.         1.         1.         1.         1.         1.\n",
      " 1.         1.         1.         1.         1.         1.\n",
      " 1.         1.         1.         1.         1.         1.\n",
      " 1.         1.         1.         1.         1.         1.\n",
      " 1.         1.         1.         1.         1.         1.\n",
      " 1.         1.         1.         1.         1.         1.\n",
      " 1.         1.         1.         1.         1.         1.\n",
      " 1.         1.         1.         1.         1.         1.\n",
      " 1.         1.         1.         1.         1.         1.\n",
      " 1.         1.         1.         1.         1.         1.\n",
      " 1.         1.         1.         1.         1.         1.\n",
      " 1.         1.         1.         1.         1.         1.\n",
      " 1.         1.         1.         1.         1.         1.\n",
      " 1.         1.         1.         1.         1.         1.\n",
      " 1.         1.         1.         1.         1.         1.\n",
      " 1.         1.         1.         1.         1.         1.\n",
      " 1.         1.         1.         1.         1.         1.\n",
      " 1.         1.         1.         1.         1.         1.\n",
      " 1.         1.         1.         1.         1.         1.\n",
      " 1.         1.         1.77598375 1.         1.         1.\n",
      " 1.         1.         1.         1.         1.         1.\n",
      " 1.         1.         1.         1.         1.         1.\n",
      " 1.         1.         1.         1.         1.         1.\n",
      " 1.69601392 1.         1.         1.         1.         1.\n",
      " 1.         1.         1.         1.         1.         1.\n",
      " 1.37806295 1.         1.         1.         1.         1.\n",
      " 1.         1.         1.         1.         1.         1.\n",
      " 1.         3.         3.         3.         3.         2.6       ]\n",
      "0.04682282041696795\n",
      "-0.999999999739777\n",
      "Optimization terminated successfully\n"
     ]
    }
   ],
   "source": [
    "# reuse the optima as initialization reduces computation time\n",
    "x0 = res.x\n",
    "bounds = Bounds([1]*(N-1)+[1.4], [3]*(N-1)+[2.6])\n",
    "res2 = minimize(objective, x0, method='SLSQP', tol=1e-9, options={'ftol': 1e-9, 'disp': True, 'maxiter': 5000}, \\\n",
    "    bounds=bounds, constraints=ineq_cons)\n",
    "print(res2.x)\n",
    "print(-res2.fun)\n",
    "print(np.sum(coef*res2.x))\n",
    "print(res2.message)"
   ]
  },
  {
   "cell_type": "code",
   "execution_count": 272,
   "metadata": {},
   "outputs": [
    {
     "name": "stdout",
     "output_type": "stream",
     "text": [
      "Optimization terminated successfully    (Exit mode 0)\n",
      "            Current function value: -0.17581619327556547\n",
      "            Iterations: 57\n",
      "            Function evaluations: 17157\n",
      "            Gradient evaluations: 57\n",
      "[1.         1.         1.         1.         1.         1.\n",
      " 1.         1.         1.         1.         1.         1.\n",
      " 1.         1.         1.         1.         1.         1.\n",
      " 1.         1.         1.         1.         1.         1.\n",
      " 1.         1.         1.         1.         1.         1.\n",
      " 1.         1.         1.         1.         1.         1.\n",
      " 1.         1.         1.         1.         1.         1.\n",
      " 1.         1.         1.         1.         1.         1.\n",
      " 1.         1.         1.         1.         1.         1.\n",
      " 1.         1.         1.         1.         1.         1.\n",
      " 1.         1.         1.         1.         1.         1.\n",
      " 1.         1.         1.         1.         1.         1.\n",
      " 1.         1.         1.         1.         1.         1.\n",
      " 1.         1.         1.         1.         1.         1.\n",
      " 1.         1.         1.         1.         1.         1.\n",
      " 1.         1.         1.         1.         1.         1.\n",
      " 1.         1.         1.         1.         1.         1.\n",
      " 1.         1.         1.         1.         1.         1.\n",
      " 1.         1.         1.         1.         1.         1.\n",
      " 1.         1.         1.         1.         1.         1.\n",
      " 1.         1.         1.         1.         1.         1.\n",
      " 1.         1.         1.         1.         1.         1.\n",
      " 1.         1.         1.         1.         1.         1.\n",
      " 1.         1.         1.         1.         1.         1.\n",
      " 1.         1.         1.         1.         1.         1.\n",
      " 1.         1.         1.         1.         1.         1.\n",
      " 1.         1.         1.         1.         1.         1.\n",
      " 1.         1.         1.         1.         1.         1.\n",
      " 1.         1.         1.         1.         1.         1.\n",
      " 1.         1.         1.         1.         1.         1.\n",
      " 1.         1.         1.         1.         1.         1.\n",
      " 1.         1.         1.         1.         1.         1.\n",
      " 1.         1.         1.         1.         1.         1.\n",
      " 1.         1.         1.         1.         1.         1.\n",
      " 1.         1.         1.         1.         1.         1.\n",
      " 1.         1.         1.         1.         1.         1.\n",
      " 1.         1.         1.         1.         1.         1.\n",
      " 1.         1.         1.         1.         1.         1.\n",
      " 1.         1.         1.         1.         1.         1.\n",
      " 1.         1.         1.         1.         1.         1.\n",
      " 1.         1.         1.         1.         1.         1.\n",
      " 1.         1.         1.64769101 1.         1.         1.\n",
      " 1.         1.         1.         1.         1.         1.\n",
      " 1.         1.         1.         1.         1.         1.\n",
      " 1.         1.         1.         1.         1.         1.\n",
      " 1.6178027  1.         1.         1.         1.         1.\n",
      " 1.         1.         1.         1.         3.         3.\n",
      " 3.         3.         3.         3.         3.         3.\n",
      " 3.         3.         3.         3.         3.         3.\n",
      " 3.         3.         3.         3.         3.         3.        ]\n",
      "0.17581619327556547\n",
      "-1.0000000001708729\n",
      "Optimization terminated successfully\n"
     ]
    }
   ],
   "source": [
    "K = 20\n",
    "def objective(x, K=K): \n",
    "    return -1*np.sum(x[-K:])/np.sum(x)\n",
    "x0 = res.x\n",
    "bounds = Bounds([1]*N, [3]*N)\n",
    "res3 = minimize(objective, x0, method='SLSQP', tol=1e-9, options={'ftol': 1e-9, 'disp': True, 'maxiter': 5000}, \\\n",
    "    bounds=bounds, constraints=ineq_cons)\n",
    "print(res3.x)\n",
    "print(-res3.fun)\n",
    "print(np.sum(coef*res3.x))\n",
    "print(res3.message)"
   ]
  },
  {
   "cell_type": "code",
   "execution_count": null,
   "metadata": {},
   "outputs": [],
   "source": []
  },
  {
   "cell_type": "code",
   "execution_count": null,
   "metadata": {},
   "outputs": [],
   "source": [
    "\n",
    "\n",
    "N = 100\n",
    "data = np.linspace(1,N,N)\n",
    "bounds = Bounds([1]*N, [3]*N)\n",
    "\n",
    "r = []\n",
    "r2 = []\n",
    "Ks = np.arange(1,N-1)\n",
    "coef = np.random.normal(0,0.2,N)\n",
    "\n",
    "for K in Ks:\n",
    "    def objective(x, K=K): \n",
    "        return -1*np.sum(x[-K:])/np.sum(x)\n",
    "\n",
    "\n",
    "    def con(x, coef=coef):\n",
    "        return np.sum(coef*x)\n",
    "    eq_cons = {'type': 'eq', 'fun' : con}\n",
    "\n",
    "    def incon(x, coef=coef):\n",
    "        return  np.array([1 - np.sum(coef*x), 1+np.sum(coef*x)])\n",
    "    ineq_cons = {'type': 'ineq', 'fun' : incon}\n",
    "\n",
    "\n",
    "    x0 = np.random.uniform(1,3,N)\n",
    "    res = minimize(objective, x0, method='SLSQP', tol=1e-9, options={'ftol': 1e-9, 'disp': True, 'maxiter': 5000}, \\\n",
    "        bounds=bounds, constraints=eq_cons)\n",
    "    print(res.message, np.sum(coef*res.x))\n",
    "\n",
    "    r.append(-res.fun)\n",
    "    r2.append(-objective([1]*(N-K)+[3]*K))\n"
   ]
  },
  {
   "cell_type": "code",
   "execution_count": 264,
   "metadata": {},
   "outputs": [
    {
     "data": {
      "text/plain": [
       "[<matplotlib.lines.Line2D at 0x7fdaf0b8e580>]"
      ]
     },
     "execution_count": 264,
     "metadata": {},
     "output_type": "execute_result"
    },
    {
     "data": {
      "image/png": "[encoded data removed]",
      "text/plain": [
       "<Figure size 432x288 with 1 Axes>"
      ]
     },
     "metadata": {
      "needs_background": "light"
     },
     "output_type": "display_data"
    }
   ],
   "source": [
    "import matplotlib.pyplot as plt\n",
    "plt.plot(Ks, r, 'ro-')\n",
    "plt.plot(Ks, r2, 'bo-')\n"
   ]
  },
  {
   "cell_type": "code",
   "execution_count": 274,
   "metadata": {},
   "outputs": [
    {
     "data": {
      "text/plain": [
       "4.605170185988092"
      ]
     },
     "execution_count": 274,
     "metadata": {},
     "output_type": "execute_result"
    }
   ],
   "source": [
    "np.log(100)"
   ]
  },
  {
   "cell_type": "code",
   "execution_count": 3,
   "metadata": {},
   "outputs": [
    {
     "data": {
      "text/plain": [
       "<AxesSubplot:>"
      ]
     },
     "execution_count": 3,
     "metadata": {},
     "output_type": "execute_result"
    },
    {
     "data": {
      "image/png": "[encoded data removed]",
      "text/plain": [
       "<Figure size 432x288 with 1 Axes>"
      ]
     },
     "metadata": {
      "needs_background": "light"
     },
     "output_type": "display_data"
    }
   ],
   "source": [
    "import seaborn as sns\n",
    "sns.set_context(\"poster\")\n",
    "sns.lineplot(x=[0, 1, 2], y=[1, 3, 2])"
   ]
  }
 ],
 "metadata": {
  "interpreter": {
   "hash": "38db0ac003062b60a75dacf66fabea0f0cb4efccde36d6f88ec69bd423585c0e"
  },
  "kernelspec": {
   "display_name": "Python 3.8.5 ('py38')",
   "language": "python",
   "name": "python3"
  },
  "language_info": {
   "codemirror_mode": {
    "name": "ipython",
    "version": 3
   },
   "file_extension": ".py",
   "mimetype": "text/x-python",
   "name": "python",
   "nbconvert_exporter": "python",
   "pygments_lexer": "ipython3",
   "version": "3.8.5"
  }
 },
 "nbformat": 4,
 "nbformat_minor": 4
}
